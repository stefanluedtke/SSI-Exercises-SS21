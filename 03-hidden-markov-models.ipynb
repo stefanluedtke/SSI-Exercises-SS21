{
 "cells": [
  {
   "cell_type": "markdown",
   "metadata": {},
   "source": [
    "# Hidden Markov Models\n",
    "\n",
    "## Manuelles Berechnen eines HMMs\n",
    "Für eine Smartwatch soll ein System entwickelt werden, das automatisch erkennt, ob der Träger gerade schläft. Die Smartwatch enthält einen Beschleunigungssensor, der entweder den Wert \"wenig Bewegung\" oder den Wert \"viel Bewegung\" zurückliefert. Wenn der Träger schläft, ist die Wahrscheinlichkeit für \"viel Bewegung\" 5 % und die Wahrscheinlichkeit für \"wenig Bewegung\" 95 %.\n",
    "Wenn der Träger wach ist, ist die Wahrscheinlichkeit für \"viel Bewegung\" 60 % und die Wahrscheinlichkeit für \"wenig Bewegung\" 40 %. \n",
    "\n",
    "Wenn der Träger schläft, ist die Wahrscheinlichkeit, dass er im nächsten Zeitschritt wach ist, 30 %. Wenn der Träger wach ist, ist die Wahrscheinlichkeit, dass er im nächsten Schritt schläft, 20 %. Zu Anfang schläft der Träger mit einer Wahrscheinlichkeit von 50 %.\n",
    "\n",
    "1. Spezifizieren Sie diesen Prozess als HMM, wobei der Zustand beschreibt, ob die Person schläft oder wach ist. Notieren Sie die Initialzustand und das Beobachtungsmodell.\n",
    "\n",
    "2. Berechnen Sie, ausgehend von der initialen Wahrscheinlichkeitsverteilung über den Zuständen, ...\n",
    "\n",
    "    a) die Vorhersage, d.h., Wahrscheinlichkeitsverteilung allein auf Basis des Transitionsmodelles!\n",
    "    \n",
    "    b) die Korrektur nach der Beobachtung \"wenig Bewegung\"!"
   ]
  },
  {
   "cell_type": "code",
   "execution_count": null,
   "metadata": {},
   "outputs": [],
   "source": []
  },
  {
   "cell_type": "markdown",
   "metadata": {},
   "source": [
    "## HMM Implementierung\n",
    "\n",
    "Implementieren Sie das oben beschriebene Hidden Markov Model in R. Die Verteilung $p(x_t | y_{1:t})$ soll durch einen Vektor $s$ dargestellt werden, wobei das erste Element des Vektors die Wahrscheinlichkeit $p(x_t = Wach)$ und das zweite Element die Wahrscheinlichkeit $p(x_t = Schlafend)$ angibt. Das Transitionsmodell $p(x_{t+1} | x_{t})$ soll als Matrix $T$ dargestellt werden, wobei der Eintrag $t_{ij}$ die Wahrscheinlichkeit $p(x_{t+1} = i | x_{t} = j)$ darstellt. Das Observationsmodell $p(y_t | x_t)$ soll ebenfalls als Matrix dargestellt werden, wobei der Eintrag $o_{ij}$ die Wahrscheinlichkeit $p(y_t=i | x_t=j)$ angibt.\n",
    "\n",
    "Folgende Funktionen sollen implementiert werden:\n",
    "\n",
    "1. `predict(s,T)`: Gegeben eine Prior-Verteilung $p(x_t | y_{1:t})$ als Vektor $s$ und ein Transitionsmodell, berechne die Verteilung nach dem Prädiktionsschritt, d.h. $p(x_{t+1} | y_{1:t})$.\n",
    "2. `update(s,O,y)`: Gegeben eine Verteilung $p(x_{t+1} | y_{1:t})$ als Vektor $s$, ein Observationsmodell $O$ und eine Beobachtung $y_{t+1}$, berechne die Verteilung nach dem Korrektur-Schritt, d.h. $p(x_{t+1} | y_{1:t+1})$.\n",
    "3. `filter(s0,Y,T,O)`: Gegeben eine Prior-Verteilung $p(x_0)$ als Vektor s0, eine Sequenz (d.h. ein Vektor) von Beobachtungen $y_{1:T}$, ein Transitionsmodell T und Beobachtungsmodell O, berechne für jedes $t = 1,...,T$ die Verteilung $p(x_t | y_{1:t})$."
   ]
  },
  {
   "cell_type": "code",
   "execution_count": 1,
   "metadata": {},
   "outputs": [],
   "source": [
    "predict = function(s,T){\n",
    "  #TODO\n",
    "}\n",
    "\n",
    "update = function(s,O,y){\n",
    "    #TODO\n",
    "}\n",
    "\n",
    "filter = function(s0,O,T,yy){\n",
    "    #TODO\n",
    "}\n",
    "\n",
    "testHMM = function(){\n",
    "  #transition model\n",
    "  T = matrix(c(0.8,0.2,0.3,0.7),nrow=2,ncol=2)\n",
    "  #prior\n",
    "  s0 = c(0.5,0.5)\n",
    "  #obs model\n",
    "  O = matrix(c(0.6,0.4,0.05,0.95),nrow=2,ncol=2)\n",
    "  #observation sequence\n",
    "  yy = c(\"W\",\"W\",\"V\")\n",
    "  ss = filter(s0,O,T,yy)\n",
    "}\n"
   ]
  }
 ],
 "metadata": {
  "kernelspec": {
   "display_name": "R [conda env:ssi]",
   "language": "R",
   "name": "conda-env-ssi-r"
  },
  "language_info": {
   "codemirror_mode": "r",
   "file_extension": ".r",
   "mimetype": "text/x-r-source",
   "name": "R",
   "pygments_lexer": "r",
   "version": "3.6.1"
  }
 },
 "nbformat": 4,
 "nbformat_minor": 2
}
