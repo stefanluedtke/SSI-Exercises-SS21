{
 "cells": [
  {
   "cell_type": "markdown",
   "metadata": {},
   "source": [
    "# Hidden Markov Models\n",
    "\n",
    "## Manuelles Berechnen eines HMMs\n",
    "Für eine Smartwatch soll ein System entwickelt werden, das automatisch erkennt, ob der Träger gerade schläft. Die Smartwatch enthält einen Beschleunigungssensor, der entweder den Wert \"wenig Bewegung\" oder den Wert \"viel Bewegung\" zurückliefert. Wenn der Träger schläft, ist die Wahrscheinlichkeit für \"viel Bewegung\" 5 % und die Wahrscheinlichkeit für \"wenig Bewegung\" 95 %.\n",
    "Wenn der Träger wach ist, ist die Wahrscheinlichkeit für \"viel Bewegung\" 60 % und die Wahrscheinlichkeit für \"wenig Bewegung\" 40 %. \n",
    "\n",
    "Wenn der Träger schläft, ist die Wahrscheinlichkeit, dass er im nächsten Zeitschritt wach ist, 30 %. Wenn der Träger wach ist, ist die Wahrscheinlichkeit, dass er im nächsten Schritt schläft, 20 %. Zu Anfang schläft der Träger mit einer Wahrscheinlichkeit von 50 %.\n",
    "\n",
    "1. Spezifizieren Sie diesen Prozess als HMM, wobei der Zustand beschreibt, ob die Person schläft oder wach ist. Notieren Sie die Initialzustand und das Beobachtungsmodell.\n",
    "\n",
    "2. Berechnen Sie, ausgehend von der initialen Wahrscheinlichkeitsverteilung über den Zuständen, ...\n",
    "\n",
    "    a) die Vorhersage, d.h., Wahrscheinlichkeitsverteilung allein auf Basis des Transitionsmodelles!\n",
    "    \n",
    "    b) die Korrektur nach der Beobachtung \"wenig Bewegung\"!"
   ]
  },
  {
   "cell_type": "code",
   "execution_count": 1,
   "metadata": {},
   "outputs": [],
   "source": [
    "#transition model\n",
    "T = matrix(c(0.8,0.2,0.3,0.7),nrow=2,ncol=2)\n",
    "\n",
    "#prior\n",
    "s0 = c(0.5,0.5)\n",
    "\n",
    "#obs model\n",
    "O = matrix(c(0.6,0.4,0.05,0.95),nrow=2,ncol=2)\n",
    "\n",
    "#solve the manual computation exercise:\n",
    "s1 = T %*% s0\n",
    "s1i = O[2,] * s1 #2nd row of matrix because y=\"wenig bewegung\"\n",
    "s2 = s1i / sum(s1i)"
   ]
  },
  {
   "cell_type": "code",
   "execution_count": 9,
   "metadata": {},
   "outputs": [
    {
     "data": {
      "text/html": [
       "<table>\n",
       "<tbody>\n",
       "\t<tr><td>0.3397683</td></tr>\n",
       "\t<tr><td>0.6602317</td></tr>\n",
       "</tbody>\n",
       "</table>\n"
      ],
      "text/latex": [
       "\\begin{tabular}{l}\n",
       "\t 0.3397683\\\\\n",
       "\t 0.6602317\\\\\n",
       "\\end{tabular}\n"
      ],
      "text/markdown": [
       "\n",
       "| 0.3397683 |\n",
       "| 0.6602317 |\n",
       "\n"
      ],
      "text/plain": [
       "     [,1]     \n",
       "[1,] 0.3397683\n",
       "[2,] 0.6602317"
      ]
     },
     "metadata": {},
     "output_type": "display_data"
    }
   ],
   "source": [
    "s2"
   ]
  },
  {
   "cell_type": "markdown",
   "metadata": {},
   "source": [
    "## HMM Implementierung\n",
    "\n",
    "Implementieren Sie das oben beschriebene Hidden Markov Model in R. Die Verteilung $p(x_t | y_{1:t})$ soll durch einen Vektor $s$ dargestellt werden, wobei das erste Element des Vektors die Wahrscheinlichkeit $p(x_t = Wach)$ und das zweite Element die Wahrscheinlichkeit $p(x_t = Schlafend)$ angibt. Das Transitionsmodell $p(x_{t+1} | x_{t})$ soll als Matrix $T$ dargestellt werden, wobei der Eintrag $t_{ij}$ die Wahrscheinlichkeit $p(x_{t+1} = i | x_{t} = j)$ darstellt. Das Observationsmodell $p(y_t | x_t)$ soll ebenfalls als Matrix dargestellt werden, wobei der Eintrag $o_{ij}$ die Wahrscheinlichkeit $p(y_t=i | x_t=j)$ angibt.\n",
    "\n",
    "Folgende Funktionen sollen implementiert werden:\n",
    "\n",
    "1. `predict(s,T)`: Gegeben eine Prior-Verteilung $p(x_t | y_{1:t})$ als Vektor $s$ und ein Transitionsmodell, berechne die Verteilung nach dem Prädiktionsschritt, d.h. $p(x_{t+1} | y_{1:t})$.\n",
    "2. `update(s,O,y)`: Gegeben eine Verteilung $p(x_{t+1} | y_{1:t})$ als Vektor $s$, ein Observationsmodell $O$ und eine Beobachtung $y_{t+1}$, berechne die Verteilung nach dem Korrektur-Schritt, d.h. $p(x_{t+1} | y_{1:t+1})$.\n",
    "3. `filter(s0,Y,T,O)`: Gegeben eine Prior-Verteilung $p(x_0)$ als Vektor s0, eine Sequenz (d.h. ein Vektor) von Beobachtungen $y_{1:T}$, ein Transitionsmodell T und Beobachtungsmodell O, berechne für jedes $t = 1,...,T$ die Verteilung $p(x_t | y_{1:t})$."
   ]
  },
  {
   "cell_type": "code",
   "execution_count": 10,
   "metadata": {},
   "outputs": [],
   "source": [
    "predict = function(s,T){\n",
    "  (T %*% s)[,1]\n",
    "}\n",
    "\n",
    "update = function(s,O,y){\n",
    "  orow = ifelse(y==\"V\",1,2)\n",
    "  si = O[orow,] * s\n",
    "  si / sum(si)\n",
    "}\n",
    "\n",
    "filter = function(s0,O,T,yy){\n",
    "  s = s0\n",
    "  ss = list(s)\n",
    "  #for each y...\n",
    "  for(y in yy){\n",
    "    si = predict(s,T)\n",
    "    s = update(si,O,y)\n",
    "    ss = c(ss,list(s))\n",
    "  }\n",
    "  ss\n",
    "}\n",
    "\n",
    "testHMM = function(){\n",
    "  #transition model\n",
    "  T = matrix(c(0.8,0.2,0.3,0.7),nrow=2,ncol=2)\n",
    "  #prior\n",
    "  s0 = c(0.5,0.5)\n",
    "  #obs model\n",
    "  O = matrix(c(0.6,0.4,0.05,0.95),nrow=2,ncol=2)\n",
    "  #observation sequence\n",
    "  yy = c(\"W\",\"W\",\"V\")\n",
    "  ss = filter(s0,O,T,yy)\n",
    "}\n"
   ]
  },
  {
   "cell_type": "code",
   "execution_count": 13,
   "metadata": {},
   "outputs": [
    {
     "data": {
      "text/html": [
       "<ol>\n",
       "\t<li><ol class=list-inline>\n",
       "\t<li>0.5</li>\n",
       "\t<li>0.5</li>\n",
       "</ol>\n",
       "</li>\n",
       "\t<li><ol class=list-inline>\n",
       "\t<li>0.33976833976834</li>\n",
       "\t<li>0.66023166023166</li>\n",
       "</ol>\n",
       "</li>\n",
       "\t<li><ol class=list-inline>\n",
       "\t<li>0.271780699550568</li>\n",
       "\t<li>0.728219300449432</li>\n",
       "</ol>\n",
       "</li>\n",
       "\t<li><ol class=list-inline>\n",
       "\t<li>0.902652334998018</li>\n",
       "\t<li>0.0973476650019823</li>\n",
       "</ol>\n",
       "</li>\n",
       "</ol>\n"
      ],
      "text/latex": [
       "\\begin{enumerate}\n",
       "\\item \\begin{enumerate*}\n",
       "\\item 0.5\n",
       "\\item 0.5\n",
       "\\end{enumerate*}\n",
       "\n",
       "\\item \\begin{enumerate*}\n",
       "\\item 0.33976833976834\n",
       "\\item 0.66023166023166\n",
       "\\end{enumerate*}\n",
       "\n",
       "\\item \\begin{enumerate*}\n",
       "\\item 0.271780699550568\n",
       "\\item 0.728219300449432\n",
       "\\end{enumerate*}\n",
       "\n",
       "\\item \\begin{enumerate*}\n",
       "\\item 0.902652334998018\n",
       "\\item 0.0973476650019823\n",
       "\\end{enumerate*}\n",
       "\n",
       "\\end{enumerate}\n"
      ],
      "text/markdown": [
       "1. 1. 0.5\n",
       "2. 0.5\n",
       "\n",
       "\n",
       "\n",
       "2. 1. 0.33976833976834\n",
       "2. 0.66023166023166\n",
       "\n",
       "\n",
       "\n",
       "3. 1. 0.271780699550568\n",
       "2. 0.728219300449432\n",
       "\n",
       "\n",
       "\n",
       "4. 1. 0.902652334998018\n",
       "2. 0.0973476650019823\n",
       "\n",
       "\n",
       "\n",
       "\n",
       "\n"
      ],
      "text/plain": [
       "[[1]]\n",
       "[1] 0.5 0.5\n",
       "\n",
       "[[2]]\n",
       "[1] 0.3397683 0.6602317\n",
       "\n",
       "[[3]]\n",
       "[1] 0.2717807 0.7282193\n",
       "\n",
       "[[4]]\n",
       "[1] 0.90265233 0.09734767\n"
      ]
     },
     "metadata": {},
     "output_type": "display_data"
    }
   ],
   "source": [
    "ss = testHMM()\n",
    "ss"
   ]
  }
 ],
 "metadata": {
  "kernelspec": {
   "display_name": "R [conda env:ssi]",
   "language": "R",
   "name": "conda-env-ssi-r"
  },
  "language_info": {
   "codemirror_mode": "r",
   "file_extension": ".r",
   "mimetype": "text/x-r-source",
   "name": "R",
   "pygments_lexer": "r",
   "version": "3.6.1"
  }
 },
 "nbformat": 4,
 "nbformat_minor": 2
}
