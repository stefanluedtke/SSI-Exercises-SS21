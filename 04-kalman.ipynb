{
 "cells": [
  {
   "cell_type": "markdown",
   "metadata": {},
   "source": [
    "# Kalman-Filter\n",
    "Im Vorlesungsskript wird in Kapitel 4.4 der Kalman-Filter eingeführt. Eine weitere gute Quelle\n",
    "ist http://www.cbcity.de/das-kalman-filter-einfach-erklaert-teil-1.\n",
    "\n",
    "## Univariater Kalman-Filter\n",
    "Zunächst soll ein einfacher Kalman-Filter für den univariaten Fall implementiert werden. Dieser soll folgendes System abbilden: Ein Fahrzeug bewegt sich mit einer konstanten Geschwindigkeit entlang einer geraden Strecke. Sie möchten eine Schätzung darüber abgeben, wie weit sich das Fahrzeug bewegt hat. Dazu stehen folgende Informationen zur Verfügung:\n",
    "1. Die (konstante) Geschwindigkeit des Fahrzeugs v = 50 m/s (sie nehmen an, dass das Fahrzeug nicht genau diese Geschwindigkeit fährt, sondern dass die Geschwindigkeit in jedem Schritt normalverteilt ist mit Mittelwert v und Varianz 5).\n",
    "2. Sie erhalten regelmäßig (jede Sekunde) Beobachtungen über die tatsächliche Position des Fahrzeugs (diese sind wieder normalverteilt, mit Varianz 2).\n",
    "\n",
    "Die Schätzung möchten Sie mit einem Kalman-Filter durchführen. \n",
    "1. Warum kann hier ein Kalman-Filter verwendet werden? \n",
    "2. Bevor Sie mit der Implementierung starten, überlegen Sie sich: Was wird beim Predict-Schritt berechnet, was beim Update-Schritt? Woraus besteht der Zustand des Systems?\n",
    "3. Implementieren Sie eine Funktion `observe(state,obs.variance)`, die einen Systemzustand (d.h. Mittelwert und Varianz) übergeben bekommt, und daraus eine Observation (d.h. wieder Mittelwert und Varianz) erzeugt.\n",
    "4. Implementieren Sie eine Funktion `predict(state,speed,predict.variance)`, die den Predict-Schritt für einen gegebenen Systemzustand erzeugt.\n",
    "5. Implementieren Sie eine Funktion `update(state,observation)`, die den Update-Schritt berechnet.\n",
    "6. Implementieren Sie eine Funktion, die den Kalman-Filter N Schritte laufen lässt. Plotten Sie in jedem Schritt die Dichte-Funktion des Zustands nach dem Predict, der Observation, und des Zustands nach dem Update."
   ]
  },
  {
   "cell_type": "code",
   "execution_count": null,
   "metadata": {},
   "outputs": [],
   "source": []
  },
  {
   "cell_type": "markdown",
   "metadata": {},
   "source": [
    "## Multivariater Kalman-Filter\n",
    "\n",
    "Es soll nun nicht mehr nur die 1D-Distanz des Fahrzeugs berücksichtigt werden, sondern es soll die 2D-Position des Fahrzeugs getrackt werden. Außerdem soll die (nun nicht mehr als konstant angenommene) Geschwindigkeit des Fahrzeugs in beide Richtungen getrackt werden. Erweitern Sie Ihre Kalman-Filter-Funktion so, dass auch Multivariate Zustände und Observationen verarbeitet werden können.\n",
    "\n",
    "1. Aus welchen Komponenten besteht der Zustand nun?\n",
    "2. Erweitern Sie die `observe`-Funktion entsprechend. Gehen Sie davon aus, dass in jedem Schritt die Position direkt beobachtet wird. Wie muss die Matrix $C$ aussehen? Nehmen Sie an, dass \n",
    "$R=\\begin{bmatrix}\n",
    "5 & 0\\\\\n",
    "0 & 5\n",
    "\\end{bmatrix}$. Was ist die Bedeutung der Matrizen $R$ und $C$?\n",
    "3. Erweitern Sie die `predict`-Funktion entsprechend. Nutzen Sie $dt=1$,\n",
    "\\begin{equation*}\n",
    "Q=\\begin{bmatrix}\n",
    "1/4*dt^4 & 1/4*dt^4& 1/2*dt^3& 1/2*dt^3\\\\\n",
    "    1/4*dt^4& 1/4*dt^4& 1/2*dt^3& 1/2*dt^3\\\\\n",
    "    1/2*dt^3& 1/2*dt^3& dt^2& dt^2\\\\\n",
    "    1/2*dt^3& 1/2*dt^3& dt^2& dt^2\n",
    "\\end{bmatrix}\n",
    "\\end{equation*}\n",
    "und \n",
    "\\begin{equation*}\n",
    "A = \n",
    "\\begin{bmatrix}\n",
    "0& 0& dt& 0\\\\\n",
    "0 & 1 & 0 & dt\\\\\n",
    "0 & 0 & 1 & 0\\\\\n",
    "0 & 0 & 0 & 1\n",
    "\\end{bmatrix}\n",
    "\\end{equation*}\n",
    "Was ist die Bedeutung von $Q$ und $A$?\n",
    "4. Erweitern Sie die `update`-Funktion entsprechend.\n",
    "5. Erweitern sie die `main`-Funktion entsprechend. Verwenden Sie $\\mu_0 = [0, 0, 50, 20]$ und\n",
    "$V_0 = diag(10, 10, 10, 10)$."
   ]
  },
  {
   "cell_type": "code",
   "execution_count": null,
   "metadata": {},
   "outputs": [],
   "source": []
  }
 ],
 "metadata": {
  "kernelspec": {
   "display_name": "R [conda env:ssi]",
   "language": "R",
   "name": "conda-env-ssi-r"
  },
  "language_info": {
   "codemirror_mode": "r",
   "file_extension": ".r",
   "mimetype": "text/x-r-source",
   "name": "R",
   "pygments_lexer": "r",
   "version": "3.6.1"
  }
 },
 "nbformat": 4,
 "nbformat_minor": 2
}
